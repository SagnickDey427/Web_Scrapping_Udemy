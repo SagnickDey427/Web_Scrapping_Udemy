{
 "cells": [
  {
   "cell_type": "markdown",
   "id": "ea34da4d-2957-40be-9a8e-559e30e20398",
   "metadata": {},
   "source": [
    "# URL : https://www.hackthissite.org/user/login\n",
    "## If you login incorrectly , it'll throw a captcha"
   ]
  },
  {
   "cell_type": "code",
   "execution_count": 5,
   "id": "e9e6e5eb-085c-4230-8020-d077a37d806d",
   "metadata": {},
   "outputs": [
    {
     "name": "stdin",
     "output_type": "stream",
     "text": [
      "Captcha appeared... Solve the captcha and press enter.. \n"
     ]
    },
    {
     "name": "stdout",
     "output_type": "stream",
     "text": [
      "Captcha solved!\n"
     ]
    }
   ],
   "source": [
    "from selenium import webdriver\n",
    "from selenium.webdriver.chrome.service import Service\n",
    "from webdriver_manager.chrome import ChromeDriverManager\n",
    "from selenium.webdriver.common.by import By\n",
    "import time\n",
    "\n",
    "service = Service(ChromeDriverManager().install())\n",
    "driver = webdriver.Chrome(service=service)\n",
    "driver.maximize_window()\n",
    "\n",
    "url ='https://www.hackthissite.org/user/login'\n",
    "driver.get(url)\n",
    "time.sleep(2)\n",
    "\n",
    "username_field = driver.find_element(by = By.ID, value ='login_username')\n",
    "password_field = driver.find_element(by =By.ID, value ='login_password')\n",
    "login_btn = driver.find_element(by = By.XPATH, value='/html/body/table/tbody/tr[2]/td/table/tbody/tr/td[2]/form/table/tbody/tr[4]/td/input')\n",
    "\n",
    "username_field.send_keys(\"abc\")\n",
    "password_field.send_keys(\"1234\")\n",
    "login_btn.click()\n",
    "\n",
    "captcha_element = driver.find_element(by =By.XPATH , value = '/html/body/table/tbody/tr[2]/td/table/tbody/tr/td[2]/form/table/tbody/tr[5]/td/img')\n",
    "if captcha_element:\n",
    "    x = input(\"Captcha appeared... Solve the captcha and press enter..\")\n",
    "print(\"Captcha solved!\")\n",
    "\n",
    "time.sleep(2)\n",
    "driver.quit()"
   ]
  },
  {
   "cell_type": "markdown",
   "id": "6a6c0710-786f-4834-8a12-60ab89835f57",
   "metadata": {},
   "source": [
    "# Using tesseract \n",
    "## Url : https://github.com/UB-Mannheim/tesseract/wiki"
   ]
  },
  {
   "cell_type": "code",
   "execution_count": null,
   "id": "d9dc8d19-8317-4f4c-9e64-6dc1fedfd76a",
   "metadata": {},
   "outputs": [],
   "source": [
    "!pip uninstall opencv-python-headless\n",
    "!pip install opencv-python\n",
    "\n",
    "\n",
    "\n",
    "import cv2\n",
    "import time\n",
    "import pytesseract\n",
    "\n",
    "import numpy as np\n",
    "\n",
    "from PIL import Image\n",
    "from selenium import webdriver\n",
    "from selenium.webdriver.chrome.service import Service\n",
    "from webdriver_manager.chrome import ChromeDriverManager\n",
    "from selenium.webdriver.common.by import By\n",
    "\n",
    "# Mention the path of .exe file in  pytesseract-ocr\n",
    "pytesseract.pytesseract.tesseract_cmd = r\"C:\\Program Files\\Tesseract-OCR\\tesseract.exe\"\n",
    "\n",
    "service = Service(ChromeDriverManager().install())\n",
    "driver = webdriver.Chrome(service=service)\n",
    "driver.maximize_window()\n",
    "\n",
    "url ='https://www.hackthissite.org/user/login'\n",
    "driver.get(url)\n",
    "time.sleep(2)\n",
    "\n",
    "username_field = driver.find_element(by = By.ID, value ='login_username')\n",
    "password_field = driver.find_element(by =By.ID, value ='login_password')\n",
    "login_btn = driver.find_element(by = By.XPATH, value='/html/body/table/tbody/tr[2]/td/table/tbody/tr/td[2]/form/table/tbody/tr[4]/td/input')\n",
    "\n",
    "username_field.send_keys(\"abc\")\n",
    "password_field.send_keys(\"1234\")\n",
    "login_btn.click()\n",
    "time.sleep(5)\n",
    "\n",
    "try:\n",
    "    driver.save_screenshot(\"website.png\")\n",
    "\n",
    "    # Locating the captcha in the website\n",
    "    captcha_element = driver.find_element(by =By.XPATH , value = '/html/body/table/tbody/tr[2]/td/table/tbody/tr/td[2]/form/table/tbody/tr[5]/td/img')\n",
    "    location = captcha_element.location\n",
    "    size = captcha_element.size\n",
    "    device_pixel_ratio = driver.execute_script(\"return window.devicePixelRatio;\")\n",
    "    x = int(location['x'] * device_pixel_ratio)\n",
    "    y = int(location['y'] * device_pixel_ratio)\n",
    "    w = int(size['width'] * device_pixel_ratio)\n",
    "    h = int(size['height'] * device_pixel_ratio)\n",
    "\n",
    "    # Crop image using pil\n",
    "    img = Image.open('website.png')\n",
    "    captcha_image = img.crop((x, y, x + w, y + h))\n",
    "    captcha_image.save('captcha.png')\n",
    "\n",
    "    # Pre-processing of image to make it readable (This values may change and even properties and methods as well depending on the captcha image)\n",
    "    captcha_cv = np.array(captcha_image)\n",
    "    captcha_cv = cv2.cvtColor(captcha_cv, cv2.COLOR_RGB2BGR)\n",
    "    gray = cv2.cvtColor(captcha_cv, cv2.COLOR_BGR2GRAY)\n",
    "    blurred = cv2.medianBlur(gray, 3)\n",
    "    _, thresh = cv2.threshold(blurred, 0, 255, cv2.THRESH_BINARY + cv2.THRESH_OTSU)\n",
    "    kernel = np.ones((2, 2), np.uint8)\n",
    "    thresh = cv2.dilate(thresh, kernel, iterations=1)\n",
    "    cv2.imwrite('captcha-processed.png', thresh)\n",
    "\n",
    "    # Processignthe captcha image into text\n",
    "    captcha_text = pytesseract.image_to_string(Image.fromarray(thresh), config='--psm 8').strip()\n",
    "    print(f'Detected captcha text: {captcha_text}')\n",
    "\n",
    "    if captcha text:\n",
    "        username_field = driver.find_element(by = By.ID, value ='login_username')\n",
    "        password_field = driver.find_element(by =By.ID, value ='login_password')\n",
    "        captcha_field = driver.find_element(by = By.XPATH, value = '//*[@id=\"login_captcha\"]')\n",
    "        login_btn = driver.find_element(by = By.XPATH, value='/html/body/table/tbody/tr[2]/td/table/tbody/tr/td[2]/form/table/tbody/tr[4]/td/input')\n",
    "\n",
    "        #Clear fields first before inputting\n",
    "        username_field.clear()\n",
    "        password_field.clear()\n",
    "        captcha_field.clear()\n",
    "\n",
    "        username_field.send_keys(\"abc\")\n",
    "        password_field.send_keys(\"1234\")\n",
    "        captcha_field.send_keys(captcha_text)\n",
    "        login_btn.click()\n",
    "    else:\n",
    "        print(\"Unable to read captcha!\")\n",
    "except Exception as e:\n",
    "    print(\"Unable to locate captcha :\",e)\n",
    "finally:\n",
    "    time.sleep(2)\n",
    "    driver.quit()\n",
    "    \n",
    "    \n"
   ]
  },
  {
   "cell_type": "code",
   "execution_count": 10,
   "id": "306283d4-6f46-474d-acbb-60ab60ee324c",
   "metadata": {},
   "outputs": [
    {
     "name": "stdout",
     "output_type": "stream",
     "text": [
      "Name: opencv-python-headless\n",
      "Version: 4.11.0.86\n",
      "Summary: Wrapper package for OpenCV python bindings.\n",
      "Home-page: https://github.com/opencv/opencv-python\n",
      "Author: \n",
      "Author-email: \n",
      "License: Apache 2.0\n",
      "Location: c:\\python310\\lib\\site-packages\n",
      "Requires: numpy\n",
      "Required-by: \n"
     ]
    }
   ],
   "source": [
    "!python -m pip show opencv-python-headless\n",
    "\n"
   ]
  },
  {
   "cell_type": "code",
   "execution_count": null,
   "id": "f62580e5-1f27-4290-85d5-b1accd90ce3a",
   "metadata": {},
   "outputs": [],
   "source": []
  }
 ],
 "metadata": {
  "kernelspec": {
   "display_name": "Web Scrapping Udemy",
   "language": "python",
   "name": "web_scrapping"
  },
  "language_info": {
   "codemirror_mode": {
    "name": "ipython",
    "version": 3
   },
   "file_extension": ".py",
   "mimetype": "text/x-python",
   "name": "python",
   "nbconvert_exporter": "python",
   "pygments_lexer": "ipython3",
   "version": "3.13.4"
  }
 },
 "nbformat": 4,
 "nbformat_minor": 5
}
