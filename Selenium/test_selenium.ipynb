{
 "cells": [
  {
   "cell_type": "code",
   "execution_count": 1,
   "id": "ee3c43b2-9b5b-41f7-ab9c-eaa6aec21898",
   "metadata": {},
   "outputs": [],
   "source": [
    "from selenium import webdriver\n",
    "from selenium.webdriver.chrome.service import Service\n",
    "from webdriver_manager.chrome import ChromeDriverManager\n",
    "\n",
    "service = Service(ChromeDriverManager().install())\n",
    "driver = webdriver.Chrome(service=service)\n",
    "driver.maximize_window()"
   ]
  },
  {
   "cell_type": "markdown",
   "id": "716b5f22-7d2b-483d-b20e-dc69ad7d5686",
   "metadata": {},
   "source": [
    "# Working with selenium \n",
    "## Task 1 : Open https://www.google.com and retrieve it's title and url"
   ]
  },
  {
   "cell_type": "code",
   "execution_count": 2,
   "id": "cf888712-7994-454b-9838-1d2b7dc2eef7",
   "metadata": {},
   "outputs": [],
   "source": [
    "url =\" https://www.google.com\"\n",
    "driver.get(url)"
   ]
  },
  {
   "cell_type": "code",
   "execution_count": 4,
   "id": "30955edf-57c2-4a07-afbb-5fed3a668612",
   "metadata": {},
   "outputs": [
    {
     "name": "stdout",
     "output_type": "stream",
     "text": [
      "Title : Google\n",
      "Current url :https://www.google.com/\n"
     ]
    }
   ],
   "source": [
    "print(f'Title : {driver.title}')\n",
    "print(f'Current url :{driver.current_url}')"
   ]
  },
  {
   "cell_type": "markdown",
   "id": "b44ef69b-1cf8-489e-9a61-e028ff5392e2",
   "metadata": {},
   "source": [
    "## Task 2 : Take a screenshot of that apge and save it and then clos the window\n",
    "\n"
   ]
  },
  {
   "cell_type": "code",
   "execution_count": 5,
   "id": "f8e4da3e-e772-4e30-ac98-da18d2f63540",
   "metadata": {},
   "outputs": [
    {
     "name": "stdout",
     "output_type": "stream",
     "text": [
      "Screenshot taken!\n"
     ]
    }
   ],
   "source": [
    "driver.save_screenshot(\"google_screenshot.png\")\n",
    "print(\"Screenshot taken!\")"
   ]
  },
  {
   "cell_type": "code",
   "execution_count": 6,
   "id": "e226d04a-5b26-46e5-96d7-998fc1f06ffe",
   "metadata": {},
   "outputs": [],
   "source": [
    "driver.quit()"
   ]
  },
  {
   "cell_type": "markdown",
   "id": "05e0ec29-ad72-41d2-9bf2-adbe3b93c69c",
   "metadata": {},
   "source": [
    "# Navigating web pages\n",
    "## Task 1 : Search \"machine learning\" in google search-bar"
   ]
  },
  {
   "cell_type": "code",
   "execution_count": 15,
   "id": "76ea858b-d9ff-4944-8f58-cea97c379f42",
   "metadata": {},
   "outputs": [],
   "source": [
    "import time\n",
    "from selenium.webdriver.common.by import By\n",
    "from selenium.webdriver.common.keys import Keys"
   ]
  },
  {
   "cell_type": "code",
   "execution_count": 9,
   "id": "729ad7d6-9ff2-45ae-adc4-239a2c97a2d6",
   "metadata": {},
   "outputs": [],
   "source": [
    "#Open google web page\n",
    "service = Service(ChromeDriverManager().install())\n",
    "driver = webdriver.Chrome(service=service)\n",
    "driver.maximize_window()\n",
    "\n",
    "url =\" https://www.google.com\"\n",
    "driver.get(url)\n",
    "time.sleep(5)"
   ]
  },
  {
   "cell_type": "code",
   "execution_count": 12,
   "id": "0db24905-c3bc-4509-baaf-8d8d5a8454dc",
   "metadata": {},
   "outputs": [],
   "source": [
    "#Select the search bar\n",
    "search_xpath ='//*[@id=\"APjFqb\"]'\n",
    "search_bar = driver.find_element(by = By.XPATH, value = search_xpath)  "
   ]
  },
  {
   "cell_type": "code",
   "execution_count": 17,
   "id": "f8b8276c-f478-4592-95fb-54afcc055028",
   "metadata": {},
   "outputs": [],
   "source": [
    "#Enter the input in search bar\n",
    "search_bar.send_keys(\"machine learning\")\n",
    "time.sleep(3)\n",
    "\n",
    "# #Clearing the search bar input\n",
    "# time.sleep(4)\n",
    "# search_bar.clear()\n",
    "# time.sleep(1)\n",
    "\n",
    "#Clicking enter\n",
    "search_bar.send_keys(Keys.ENTER)"
   ]
  },
  {
   "cell_type": "code",
   "execution_count": 19,
   "id": "036b83f8-3de4-404f-ad46-7e3378af50ed",
   "metadata": {},
   "outputs": [],
   "source": [
    "#Clicking on a link\n",
    "link_xpath='//*[@id=\"rso\"]/div[2]/div/div/div[1]/div/div/span/a/h3'\n",
    "link = driver.find_element(by = By.XPATH , value = link_xpath)\n",
    "link.click()\n"
   ]
  },
  {
   "cell_type": "code",
   "execution_count": 20,
   "id": "bb4deca9-ba07-42f7-ad3e-f294d4891466",
   "metadata": {},
   "outputs": [],
   "source": [
    "driver.quit()"
   ]
  },
  {
   "cell_type": "markdown",
   "id": "a2dbdfe8-1b2e-4f2e-9fae-56022a6d02e2",
   "metadata": {},
   "source": [
    "# Submitting forms\n",
    "## Task 1 : Submit form in github login page : https://github.com/login"
   ]
  },
  {
   "cell_type": "code",
   "execution_count": 21,
   "id": "04ad889d-03c8-4786-9d55-6b5199ce4b5b",
   "metadata": {},
   "outputs": [],
   "source": [
    "#Opening github login page\n",
    "service = Service(ChromeDriverManager().install())\n",
    "driver = webdriver.Chrome(service=service)\n",
    "driver.maximize_window()\n",
    "\n",
    "url ='https://github.com/login'\n",
    "driver.get(url)\n",
    "time.sleep(5)"
   ]
  },
  {
   "cell_type": "code",
   "execution_count": 23,
   "id": "7fb48e7e-8744-4a0c-a971-fb59ff578152",
   "metadata": {},
   "outputs": [],
   "source": [
    "#selecting username field \n",
    "username_field = driver.find_element(by = By.ID , value= 'login_field')\n",
    "\n",
    "#Selecting passwprd field\n",
    "password_field = driver.find_element(by = By.ID,value ='password')\n",
    "\n",
    "#Filling details\n",
    "username_field.send_keys('sagnickdey427@gmail.com')\n",
    "time.sleep(5)\n",
    "password_field.send_keys('Lindane24)')\n",
    "time.sleep(1)\n",
    "\n",
    "#Clicking on submit button\n",
    "submit_btn = driver.find_element(by = By.XPATH, value=\"//input[@name='commit']\")\n",
    "submit_btn.click()"
   ]
  },
  {
   "cell_type": "code",
   "execution_count": 24,
   "id": "1b055572-f278-4c10-9f89-a6881ae5f891",
   "metadata": {},
   "outputs": [],
   "source": [
    "driver.quit()"
   ]
  },
  {
   "cell_type": "markdown",
   "id": "ddf0de10-2688-458a-a65f-1c2b31806063",
   "metadata": {},
   "source": [
    "# Dropdown menu\n",
    "## Select dropdown menu from : https://www.miniclip.com/careers/vacancies "
   ]
  },
  {
   "cell_type": "code",
   "execution_count": 8,
   "id": "dea6356a-8ef6-4830-ab59-a4a20250abbd",
   "metadata": {},
   "outputs": [],
   "source": [
    "#Opening website\n",
    "from selenium import webdriver\n",
    "import time\n",
    "from selenium.webdriver.chrome.service import Service\n",
    "from webdriver_manager.chrome import ChromeDriverManager\n",
    "from selenium.webdriver.support.select import Select\n",
    "from selenium.webdriver.common.by import By\n",
    "\n",
    "service = Service(ChromeDriverManager().install())\n",
    "driver = webdriver.Chrome(service=service)\n",
    "driver.maximize_window()\n",
    "\n",
    "url ='https://www.miniclip.com/careers/vacancies'\n",
    "driver.get(url)\n",
    "time.sleep(5)\n",
    "\n",
    "department_element = driver.find_element(by = By.XPATH, value = '//*[@id=\"__layout\"]/div/div/section[2]/div/fieldset[3]/select')\n",
    "department_dropdown = Select(department_element)\n",
    "time.sleep(2)\n",
    "\n",
    "department_dropdown.select_by_index(5)\n",
    "time.sleep(2)\n",
    "\n",
    "department_dropdown.select_by_visible_text('Server Development')\n",
    "\n",
    "driver.quit()"
   ]
  },
  {
   "cell_type": "markdown",
   "id": "6a7b2534-0bbc-432c-81e2-06bce4820487",
   "metadata": {},
   "source": [
    "# Multiselect \n",
    "## url : https://demoqa.com/select-menu"
   ]
  },
  {
   "cell_type": "code",
   "execution_count": 12,
   "id": "9077fddc-3b74-41d3-8eab-8dd913e1766c",
   "metadata": {},
   "outputs": [],
   "source": [
    "#Opening website\n",
    "from selenium import webdriver\n",
    "import time\n",
    "from selenium.webdriver.chrome.service import Service\n",
    "from webdriver_manager.chrome import ChromeDriverManager\n",
    "from selenium.webdriver.support.select import Select\n",
    "from selenium.webdriver.common.by import By\n",
    "\n",
    "service = Service(ChromeDriverManager().install())\n",
    "driver = webdriver.Chrome(service=service)\n",
    "driver.maximize_window()\n",
    "\n",
    "url ='https://demoqa.com/select-menu'\n",
    "driver.get(url)\n",
    "time.sleep(2)\n",
    "\n",
    "cars_element = driver.find_element(by = By.XPATH, value = '//*[@id=\"cars\"]')\n",
    "cars_ms = Select(cars_element)\n",
    "time.sleep(2)\n",
    "\n",
    "cars_ms.select_by_index(1)\n",
    "time.sleep(1)\n",
    "cars_ms.select_by_visible_text('Audi')\n",
    "time.sleep(1)\n",
    "cars_ms.select_by_visible_text('Opel')\n",
    "time.sleep(1)\n",
    "\n",
    "cars_ms.deselect_by_index(2) # Deselects Opel\n",
    "time.sleep(1)\n",
    "cars_ms.deselect_all()\n",
    "time.sleep(1)\n",
    "\n",
    "driver.quit()"
   ]
  },
  {
   "cell_type": "markdown",
   "id": "b2d56a74-0168-456c-ae7d-4431dd70bf53",
   "metadata": {},
   "source": [
    "# Scrolling\n",
    "## Url : https://en.wikipedia.org/wiki/Machine_learning"
   ]
  },
  {
   "cell_type": "code",
   "execution_count": 9,
   "id": "202d711f-a1d9-4ff3-a49e-726fe239f3a1",
   "metadata": {},
   "outputs": [],
   "source": [
    "#Opening website\n",
    "from selenium import webdriver\n",
    "import time\n",
    "from selenium.webdriver.chrome.service import Service\n",
    "from webdriver_manager.chrome import ChromeDriverManager\n",
    "from selenium.webdriver.support.select import Select\n",
    "from selenium.webdriver.common.by import By\n",
    "\n",
    "service = Service(ChromeDriverManager().install())\n",
    "driver = webdriver.Chrome(service=service)\n",
    "driver.maximize_window()\n",
    "\n",
    "url ='https://en.wikipedia.org/wiki/Machine_learning'\n",
    "driver.get(url)\n",
    "time.sleep(2)\n",
    "\n",
    "#get the element \n",
    "ai_subtopic = driver.find_element(by = By.XPATH, value = '//*[@id=\"Artificial_intelligence\"]')\n",
    "\n",
    "#Scroll to the element\n",
    "# driver.execute_script(\"arguments[0].scrollIntoView();\",ai_subtopic)\n",
    "# time.sleep(2)\n",
    "\n",
    "# #Scroll veritically\n",
    "# driver.execute_script(\"window.scrollBy(0,2000);\")\n",
    "# time.sleep(2)\n",
    "# driver.execute_script(\"window.scrollBy(0,-1000);\")\n",
    "# time.sleep(2)\n",
    "\n",
    "# #Scroll horizontally\n",
    "# driver.execute_script(\"window.scrollBy(500,0);\")\n",
    "\n",
    "#Scroll to the bottom of the page\n",
    "driver.execute_script(\"window.scrollTo(0,document.body.scrollHeight);\")\n",
    "time.sleep(2)\n",
    "driver.execute_script(\"window.scrollTo(0,-document.body.scrollHeight);\")\n",
    "time.sleep(2)\n",
    "driver.quit()"
   ]
  },
  {
   "cell_type": "markdown",
   "id": "ff3480b7-a2dd-4ed9-9cf0-c735b82be840",
   "metadata": {},
   "source": [
    "# Infinite scrolling\n",
    "## url : google images section that comes up  after searching anything in search bar"
   ]
  },
  {
   "cell_type": "code",
   "execution_count": 13,
   "id": "4ee2415a-1694-41c0-8dea-4a8f596872dc",
   "metadata": {},
   "outputs": [
    {
     "name": "stdout",
     "output_type": "stream",
     "text": [
      "webpage height:1953 pixels\n",
      "webpage height:3850 pixels\n",
      "webpage height:5526 pixels\n",
      "webpage height:6822 pixels\n",
      "webpage height:6805 pixels\n",
      "Reached page end!\n"
     ]
    }
   ],
   "source": [
    "#Opening website\n",
    "from selenium import webdriver\n",
    "import time\n",
    "from selenium.webdriver.chrome.service import Service\n",
    "from webdriver_manager.chrome import ChromeDriverManager\n",
    "from selenium.webdriver.support.select import Select\n",
    "from selenium.webdriver.common.by import By\n",
    "\n",
    "service = Service(ChromeDriverManager().install())\n",
    "driver = webdriver.Chrome(service=service)\n",
    "driver.maximize_window()\n",
    "\n",
    "url ='https://www.bing.com/images/search?q=liverpool&form=HDRSC3&first=1'\n",
    "driver.get(url)\n",
    "time.sleep(2)\n",
    "\n",
    "prev_ht= driver.execute_script(\"return document.body.scrollHeight;\")\n",
    "while True:\n",
    "    print(f\"webpage height:{prev_ht} pixels\")\n",
    "    driver.execute_script(\"window.scrollTo(0,document.body.scrollHeight);\") #Scroll to the bottom \n",
    "    time.sleep(5) #Wait for loading \n",
    "\n",
    "    #Get new height after loading\n",
    "    new_ht = driver.execute_script(\"return document.body.scrollHeight;\")\n",
    "    if prev_ht == new_ht :\n",
    "        print(\"Reached page end!\")\n",
    "        break\n",
    "    prev_ht = new_ht"
   ]
  },
  {
   "cell_type": "markdown",
   "id": "57528cad-2489-43d8-8527-a39ca8907240",
   "metadata": {},
   "source": [
    " # Explicit wait"
   ]
  },
  {
   "cell_type": "code",
   "execution_count": 6,
   "id": "1270d991-90c5-4ac3-8ac6-d33acd81435e",
   "metadata": {},
   "outputs": [],
   "source": [
    "#Opening website\n",
    "from selenium import webdriver\n",
    "import time\n",
    "from selenium.webdriver.chrome.service import Service\n",
    "from webdriver_manager.chrome import ChromeDriverManager\n",
    "from selenium.webdriver.support.select import Select\n",
    "from selenium.webdriver.common.by import By\n",
    "from selenium.webdriver.support.ui import WebDriverWait #class for explicit wait\n",
    "from selenium.webdriver.support import expected_conditions as EC #For the condition till which to be waited\n",
    "from selenium.webdriver.common.keys import Keys\n",
    "\n",
    "service = Service(ChromeDriverManager().install())\n",
    "driver = webdriver.Chrome(service=service)\n",
    "driver.maximize_window()\n",
    "\n",
    "url ='https://www.google.com'\n",
    "driver.get(url)\n",
    "time.sleep(2)\n",
    "\n",
    "search_xpath ='//*[@id=\"APjFqb\"]'\n",
    "search_bar = driver.find_element(by = By.XPATH, value = search_xpath)\n",
    "search_bar.send_keys(\"machine learning\")\n",
    "\n",
    "#Creating an instance of WebDriverWait\n",
    "wait = WebDriverWait(driver, 5)\n",
    "\n",
    "#Apply the ondition untill which we have to wait\n",
    "wait.until(EC.element_to_be_clickable((By.XPATH , \"//div[@class='FPdoLc lJ9FBc']//input[@name='btnK']\"))) #Wait untill the search btn is clickable\n",
    "search_bar.send_keys(Keys.ENTER)\n",
    "\n",
    "time.sleep(3)\n",
    "\n",
    "driver.quit()"
   ]
  },
  {
   "cell_type": "markdown",
   "id": "3d629b61-840d-4c89-961f-109691c879a6",
   "metadata": {},
   "source": [
    "# Implicit wait"
   ]
  },
  {
   "cell_type": "code",
   "execution_count": 7,
   "id": "58574208-0b2b-462a-8603-d149d724a357",
   "metadata": {},
   "outputs": [],
   "source": [
    "#Opening website\n",
    "from selenium import webdriver\n",
    "import time\n",
    "from selenium.webdriver.chrome.service import Service\n",
    "from webdriver_manager.chrome import ChromeDriverManager\n",
    "from selenium.webdriver.common.by import By\n",
    "from selenium.webdriver.common.keys import Keys\n",
    "\n",
    "service = Service(ChromeDriverManager().install())\n",
    "driver = webdriver.Chrome(service=service)\n",
    "driver.maximize_window()\n",
    "\n",
    "url ='https://www.google.com'\n",
    "driver.get(url)\n",
    "time.sleep(1) #Time given for browser to open\n",
    "\n",
    "#Calling implicit wait\n",
    "driver.implicitly_wait(10) #Will automatically be applied to find_element()\n",
    "\n",
    "search_xpath ='//*[@id=\"APjFqb\"]'\n",
    "search_bar = driver.find_element(by = By.XPATH, value = search_xpath)\n",
    "search_bar.send_keys(\"machine learning\")\n",
    "time.sleep(2)\n",
    "\n",
    "driver.quit()\n"
   ]
  },
  {
   "cell_type": "markdown",
   "id": "f2a74fb4-f7e8-4802-a8c5-afd04bc8be08",
   "metadata": {},
   "source": [
    "# Frames and Iframes"
   ]
  },
  {
   "cell_type": "code",
   "execution_count": 10,
   "id": "ce01414a-9685-46b8-aef5-966f19eb1c93",
   "metadata": {},
   "outputs": [],
   "source": [
    "#Opening website\n",
    "from selenium import webdriver\n",
    "import time\n",
    "from selenium.webdriver.chrome.service import Service\n",
    "from webdriver_manager.chrome import ChromeDriverManager\n",
    "from selenium.webdriver.common.by import By\n",
    "from selenium.webdriver.common.keys import Keys\n",
    "\n",
    "service = Service(ChromeDriverManager().install())\n",
    "driver = webdriver.Chrome(service=service)\n",
    "driver.maximize_window()\n",
    "\n",
    "url ='https://www.w3schools.com/html/tryit.asp?filename=tryhtml_iframe_target'\n",
    "driver.get(url)\n",
    "time.sleep(2)\n",
    "\n",
    "iframe_element = driver.find_element(by = By.XPATH, value ='//*[@id=\"iframeResult\"]')\n",
    "driver.switch_to.frame(iframe_element)\n",
    "\n",
    "link = driver.find_element(by = By.XPATH, value ='/html/body/p[1]/a')\n",
    "link.click()\n",
    "\n",
    "time.sleep(2)\n",
    "driver.switch_to.default_content()\n",
    "\n",
    "time.sleep(1)\n",
    "driver.quit()"
   ]
  },
  {
   "cell_type": "markdown",
   "id": "6a73a8fa-422f-42ca-908a-585cc37b002c",
   "metadata": {},
   "source": [
    "# JS alerts\n",
    "## url : https://www.w3schools.com/js/tryit.asp?filename=tryjs_alert"
   ]
  },
  {
   "cell_type": "code",
   "execution_count": 13,
   "id": "1b30ba08-6d4d-4e9a-b649-7a48b5a7b835",
   "metadata": {},
   "outputs": [
    {
     "name": "stdout",
     "output_type": "stream",
     "text": [
      "Alert messege :I am an alert box!\n"
     ]
    }
   ],
   "source": [
    "#Opening website\n",
    "from selenium import webdriver\n",
    "import time\n",
    "from selenium.webdriver.chrome.service import Service\n",
    "from webdriver_manager.chrome import ChromeDriverManager\n",
    "from selenium.webdriver.common.by import By\n",
    "from selenium.webdriver.common.keys import Keys\n",
    "\n",
    "service = Service(ChromeDriverManager().install())\n",
    "driver = webdriver.Chrome(service=service)\n",
    "driver.maximize_window()\n",
    "\n",
    "url ='https://www.w3schools.com/js/tryit.asp?filename=tryjs_alert'\n",
    "driver.get(url)\n",
    "time.sleep(2)\n",
    "\n",
    "iframe_element = driver.find_element(by = By.ID , value ='iframeResult')\n",
    "driver.switch_to.frame(iframe_element)\n",
    "\n",
    "btn = driver.find_element(by = By.XPATH , value = '/html/body/button')\n",
    "btn.click()\n",
    "\n",
    "alert_msg = driver.switch_to.alert.text # Alert messege \n",
    "print(f'Alert messege :{alert_msg}')\n",
    "time.sleep(3)\n",
    "driver.switch_to.alert.accept()\n",
    "\n",
    "time.sleep(2)\n",
    "driver.switch_to.default_content()\n",
    "driver.quit()"
   ]
  },
  {
   "cell_type": "markdown",
   "id": "9f35ef1d-0afc-4f68-a71d-3847ce30f6b2",
   "metadata": {},
   "source": [
    "# JS confirma alerts\n",
    "## url : https://www.w3schools.com/js/tryit.asp?filename=tryjs_confirm"
   ]
  },
  {
   "cell_type": "code",
   "execution_count": 15,
   "id": "39a74d3c-3699-47e8-a006-90a5be93a15c",
   "metadata": {},
   "outputs": [
    {
     "name": "stdout",
     "output_type": "stream",
     "text": [
      "Alert messege :Press a button!\n"
     ]
    }
   ],
   "source": [
    "#Opening website\n",
    "from selenium import webdriver\n",
    "import time\n",
    "from selenium.webdriver.chrome.service import Service\n",
    "from webdriver_manager.chrome import ChromeDriverManager\n",
    "from selenium.webdriver.common.by import By\n",
    "from selenium.webdriver.common.keys import Keys\n",
    "\n",
    "service = Service(ChromeDriverManager().install())\n",
    "driver = webdriver.Chrome(service=service)\n",
    "driver.maximize_window()\n",
    "\n",
    "url ='https://www.w3schools.com/js/tryit.asp?filename=tryjs_confirm'\n",
    "driver.get(url)\n",
    "time.sleep(2)\n",
    "\n",
    "iframe_element = driver.find_element(by = By.ID , value ='iframeResult')\n",
    "driver.switch_to.frame(iframe_element)\n",
    "\n",
    "btn = driver.find_element(by = By.XPATH , value = '/html/body/button')\n",
    "btn.click()\n",
    "\n",
    "alert_msg = driver.switch_to.alert.text # Alert messege \n",
    "print(f'Alert messege :{alert_msg}')\n",
    "\n",
    "\n",
    "time.sleep(3)\n",
    "driver.switch_to.alert.accept() #Clicking ok\n",
    "\n",
    "time.sleep(2)\n",
    "\n",
    "btn.click()\n",
    "time.sleep(3)\n",
    "\n",
    "#Clicking on cancel\n",
    "driver.switch_to.alert.dismiss()\n",
    "time.sleep(3)\n",
    "\n",
    "driver.switch_to.default_content()\n",
    "driver.quit()"
   ]
  },
  {
   "cell_type": "markdown",
   "id": "bbdc923f-127d-4247-9c87-3b849c948b70",
   "metadata": {},
   "source": [
    "# Page Object Model \n",
    "## Try the same github login task but encapsulate the script "
   ]
  },
  {
   "cell_type": "code",
   "execution_count": 16,
   "id": "7fe9807e-1229-404b-b050-3a1cb1088b8c",
   "metadata": {},
   "outputs": [],
   "source": [
    "class LoginPage:\n",
    "    def __init__(self, driver):\n",
    "        self.driver =driver\n",
    "        self.username = (By.ID,'login_field')\n",
    "        self.password = (By.ID, 'password')\n",
    "        self.submit = (By.XPATH , \"//input[@name='commit']\")\n",
    "\n",
    "    def enterDetails(self, username, password):\n",
    "        self.driver.find_element(*self.username).send_keys(username)\n",
    "        self.driver.find_element(*self.password).send_keys(password)\n",
    "        self.driver.find_element(*self.submit).click()\n",
    "\n",
    "#Opening website\n",
    "from selenium import webdriver\n",
    "import time\n",
    "from selenium.webdriver.chrome.service import Service\n",
    "from webdriver_manager.chrome import ChromeDriverManager\n",
    "from selenium.webdriver.common.by import By\n",
    "from selenium.webdriver.common.keys import Keys\n",
    "\n",
    "service = Service(ChromeDriverManager().install())\n",
    "driver = webdriver.Chrome(service=service)\n",
    "driver.maximize_window()\n",
    "\n",
    "url ='https://github.com/login'\n",
    "driver.get(url)\n",
    "time.sleep(2)\n",
    "\n",
    "login = LoginPage(driver)\n",
    "login.enterDetails(\"sagnickdey427@gmail.com\",\"Lindane24)\")\n",
    "\n",
    "time.sleep(2)\n",
    "driver.quit()"
   ]
  },
  {
   "cell_type": "code",
   "execution_count": null,
   "id": "df70253d-1a5b-4a01-937e-eed007bab480",
   "metadata": {},
   "outputs": [],
   "source": []
  }
 ],
 "metadata": {
  "kernelspec": {
   "display_name": "Web Scrapping Udemy",
   "language": "python",
   "name": "web_scrapping"
  },
  "language_info": {
   "codemirror_mode": {
    "name": "ipython",
    "version": 3
   },
   "file_extension": ".py",
   "mimetype": "text/x-python",
   "name": "python",
   "nbconvert_exporter": "python",
   "pygments_lexer": "ipython3",
   "version": "3.13.4"
  }
 },
 "nbformat": 4,
 "nbformat_minor": 5
}
