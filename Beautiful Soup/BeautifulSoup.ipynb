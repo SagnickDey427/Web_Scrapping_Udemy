{
 "cells": [
  {
   "cell_type": "markdown",
   "id": "cf1552e4-a04b-477a-ab3b-9ed327db073c",
   "metadata": {},
   "source": [
    "# Import Beautiful Soup"
   ]
  },
  {
   "cell_type": "code",
   "execution_count": 32,
   "id": "6b617d44-12b9-4480-b280-fdd953643399",
   "metadata": {},
   "outputs": [],
   "source": [
    "from bs4 import BeautifulSoup\n",
    "import requests"
   ]
  },
  {
   "cell_type": "markdown",
   "id": "8ccc9849-180a-45b4-b514-48c302e566ae",
   "metadata": {},
   "source": [
    "# Creating a soup object\n"
   ]
  },
  {
   "cell_type": "code",
   "execution_count": 2,
   "id": "be603c15-3b4a-4034-984b-cf418e740be6",
   "metadata": {},
   "outputs": [],
   "source": [
    "with open(\"html-doc.html\") as f:\n",
    "    soup = BeautifulSoup(f,\"html.parser\")  #In-built parser html.parser\n"
   ]
  },
  {
   "cell_type": "code",
   "execution_count": 3,
   "id": "812f05db-dcfd-4de7-a580-586502fc6b6d",
   "metadata": {},
   "outputs": [
    {
     "data": {
      "text/plain": [
       "bs4.BeautifulSoup"
      ]
     },
     "execution_count": 3,
     "metadata": {},
     "output_type": "execute_result"
    }
   ],
   "source": [
    "type(soup)"
   ]
  },
  {
   "cell_type": "markdown",
   "id": "7f6933da-8ced-4ddc-9f30-6c2da70eb6f8",
   "metadata": {},
   "source": [
    "# About soup object\n",
    "## 1. prettify() method"
   ]
  },
  {
   "cell_type": "code",
   "execution_count": 4,
   "id": "a0a84cc8-b76d-4aa9-a675-596ed992cfc2",
   "metadata": {},
   "outputs": [
    {
     "name": "stdout",
     "output_type": "stream",
     "text": [
      "<html>\n",
      " <head>\n",
      "  <title>\n",
      "   The Dormouse's story\n",
      "  </title>\n",
      " </head>\n",
      " <body>\n",
      "  <p class=\"title\">\n",
      "   <b>\n",
      "    The Dormouse's story\n",
      "   </b>\n",
      "  </p>\n",
      "  <p class=\"story\">\n",
      "   Once upon a time there were three little sisters; and their names were\n",
      "   <a class=\"sister\" href=\"http://example.com/elsie\" id=\"link1\">\n",
      "    Elsie\n",
      "   </a>\n",
      "   ,\n",
      "   <a class=\"sister\" href=\"http://example.com/lacie\" id=\"link2\">\n",
      "    Lacie\n",
      "   </a>\n",
      "   and\n",
      "   <a class=\"sister\" href=\"http://example.com/tillie\" id=\"link3\">\n",
      "    Tillie\n",
      "   </a>\n",
      "   ;\n",
      "and they lived at the bottom of a well.\n",
      "  </p>\n",
      "  <p class=\"story\">\n",
      "   ...\n",
      "  </p>\n",
      " </body>\n",
      "</html>\n",
      "\n"
     ]
    }
   ],
   "source": [
    "soup.prettify() #Returns a string of your doc's html code'\n",
    "print(soup.prettify())"
   ]
  },
  {
   "cell_type": "markdown",
   "id": "085ebcec-8781-41cc-9fef-da90154c6bd1",
   "metadata": {},
   "source": [
    "## 2. Targetting indivisual tags"
   ]
  },
  {
   "cell_type": "code",
   "execution_count": 5,
   "id": "b85df117-a577-4b17-b6b4-d6956de55919",
   "metadata": {},
   "outputs": [
    {
     "data": {
      "text/plain": [
       "<title>The Dormouse's story</title>"
      ]
     },
     "execution_count": 5,
     "metadata": {},
     "output_type": "execute_result"
    }
   ],
   "source": [
    "#title tag\n",
    "soup.title"
   ]
  },
  {
   "cell_type": "code",
   "execution_count": 10,
   "id": "11e97ea7-379e-4f00-99c8-79bdea730548",
   "metadata": {},
   "outputs": [
    {
     "data": {
      "text/plain": [
       "<p class=\"title\"><b>The Dormouse's story</b></p>"
      ]
     },
     "execution_count": 10,
     "metadata": {},
     "output_type": "execute_result"
    }
   ],
   "source": [
    "#p tag\n",
    "soup.p"
   ]
  },
  {
   "cell_type": "code",
   "execution_count": 11,
   "id": "ef462427-d1c1-4493-9ccb-b75dc991a299",
   "metadata": {},
   "outputs": [
    {
     "data": {
      "text/plain": [
       "<a class=\"sister\" href=\"http://example.com/elsie\" id=\"link1\">Elsie</a>"
      ]
     },
     "execution_count": 11,
     "metadata": {},
     "output_type": "execute_result"
    }
   ],
   "source": [
    "#a tag\n",
    "soup.a"
   ]
  },
  {
   "cell_type": "code",
   "execution_count": 6,
   "id": "b3334e64-9b56-448a-8c11-3c3da1a3c7e0",
   "metadata": {},
   "outputs": [
    {
     "data": {
      "text/plain": [
       "<body>\n",
       "<p class=\"title\"><b>The Dormouse's story</b></p>\n",
       "<p class=\"story\">Once upon a time there were three little sisters; and their names were\n",
       "<a class=\"sister\" href=\"http://example.com/elsie\" id=\"link1\">Elsie</a>,\n",
       "<a class=\"sister\" href=\"http://example.com/lacie\" id=\"link2\">Lacie</a> and\n",
       "<a class=\"sister\" href=\"http://example.com/tillie\" id=\"link3\">Tillie</a>;\n",
       "and they lived at the bottom of a well.</p>\n",
       "<p class=\"story\">...</p></body>"
      ]
     },
     "execution_count": 6,
     "metadata": {},
     "output_type": "execute_result"
    }
   ],
   "source": [
    "#body tag\n",
    "soup.body"
   ]
  },
  {
   "cell_type": "code",
   "execution_count": 7,
   "id": "ef9d0124-e233-4a2a-a096-2fd02b606211",
   "metadata": {},
   "outputs": [
    {
     "data": {
      "text/plain": [
       "<head><title>The Dormouse's story</title></head>"
      ]
     },
     "execution_count": 7,
     "metadata": {},
     "output_type": "execute_result"
    }
   ],
   "source": [
    "#head tag\n",
    "soup.head"
   ]
  },
  {
   "cell_type": "markdown",
   "id": "995e764a-b7b2-49cb-84c8-1bd1ff83daaf",
   "metadata": {},
   "source": [
    "## 3. Getting contents of a tag"
   ]
  },
  {
   "cell_type": "code",
   "execution_count": 8,
   "id": "6d393741-bcba-4dec-a0f1-6804748d9a2a",
   "metadata": {},
   "outputs": [
    {
     "data": {
      "text/plain": [
       "\"The Dormouse's story\""
      ]
     },
     "execution_count": 8,
     "metadata": {},
     "output_type": "execute_result"
    }
   ],
   "source": [
    "#text attribute of tag\n",
    "soup.title.text"
   ]
  },
  {
   "cell_type": "code",
   "execution_count": 9,
   "id": "a49370a3-ebfa-4214-ac48-ee0a7f5dcf77",
   "metadata": {},
   "outputs": [
    {
     "data": {
      "text/plain": [
       "\"The Dormouse's story\""
      ]
     },
     "execution_count": 9,
     "metadata": {},
     "output_type": "execute_result"
    }
   ],
   "source": [
    "soup.p.text"
   ]
  },
  {
   "cell_type": "code",
   "execution_count": 16,
   "id": "122a14da-7b4a-4a7c-91e9-69b32ec2fd79",
   "metadata": {},
   "outputs": [
    {
     "data": {
      "text/plain": [
       "\"\\nThe Dormouse's story\\nOnce upon a time there were three little sisters; and their names were\\nElsie,\\nLacie and\\nTillie;\\nand they lived at the bottom of a well.\\n...\""
      ]
     },
     "execution_count": 16,
     "metadata": {},
     "output_type": "execute_result"
    }
   ],
   "source": [
    "soup.body.text"
   ]
  },
  {
   "cell_type": "code",
   "execution_count": 17,
   "id": "7a6604fc-d57d-486f-ac80-ac34343b3b40",
   "metadata": {},
   "outputs": [
    {
     "data": {
      "text/plain": [
       "\"The Dormouse's story\""
      ]
     },
     "execution_count": 17,
     "metadata": {},
     "output_type": "execute_result"
    }
   ],
   "source": [
    "soup.head.text"
   ]
  },
  {
   "cell_type": "markdown",
   "id": "4aa3378e-21e1-4414-be62-ce3433b9caea",
   "metadata": {},
   "source": [
    "## 4. parent tag"
   ]
  },
  {
   "cell_type": "code",
   "execution_count": 10,
   "id": "63d170e1-2981-4c5e-be76-59eb638e7b5c",
   "metadata": {},
   "outputs": [
    {
     "data": {
      "text/plain": [
       "<head><title>The Dormouse's story</title></head>"
      ]
     },
     "execution_count": 10,
     "metadata": {},
     "output_type": "execute_result"
    }
   ],
   "source": [
    "soup.title.parent #Gives head tag"
   ]
  },
  {
   "cell_type": "code",
   "execution_count": 11,
   "id": "be8377e5-4acc-49f2-9a2c-12d98c8fe128",
   "metadata": {},
   "outputs": [
    {
     "data": {
      "text/plain": [
       "<p class=\"title\"><b>The Dormouse's story</b></p>"
      ]
     },
     "execution_count": 11,
     "metadata": {},
     "output_type": "execute_result"
    }
   ],
   "source": [
    "soup.b.parent"
   ]
  },
  {
   "cell_type": "code",
   "execution_count": 12,
   "id": "babed99b-4b1a-418d-b04e-6635338b4dbc",
   "metadata": {},
   "outputs": [
    {
     "data": {
      "text/plain": [
       "<body>\n",
       "<p class=\"title\"><b>The Dormouse's story</b></p>\n",
       "<p class=\"story\">Once upon a time there were three little sisters; and their names were\n",
       "<a class=\"sister\" href=\"http://example.com/elsie\" id=\"link1\">Elsie</a>,\n",
       "<a class=\"sister\" href=\"http://example.com/lacie\" id=\"link2\">Lacie</a> and\n",
       "<a class=\"sister\" href=\"http://example.com/tillie\" id=\"link3\">Tillie</a>;\n",
       "and they lived at the bottom of a well.</p>\n",
       "<p class=\"story\">...</p></body>"
      ]
     },
     "execution_count": 12,
     "metadata": {},
     "output_type": "execute_result"
    }
   ],
   "source": [
    "soup.p.parent"
   ]
  },
  {
   "cell_type": "code",
   "execution_count": 13,
   "id": "fc2acf4c-49a7-4cd8-8eaf-837aa95369bd",
   "metadata": {},
   "outputs": [
    {
     "data": {
      "text/plain": [
       "<html><head><title>The Dormouse's story</title></head>\n",
       "<body>\n",
       "<p class=\"title\"><b>The Dormouse's story</b></p>\n",
       "<p class=\"story\">Once upon a time there were three little sisters; and their names were\n",
       "<a class=\"sister\" href=\"http://example.com/elsie\" id=\"link1\">Elsie</a>,\n",
       "<a class=\"sister\" href=\"http://example.com/lacie\" id=\"link2\">Lacie</a> and\n",
       "<a class=\"sister\" href=\"http://example.com/tillie\" id=\"link3\">Tillie</a>;\n",
       "and they lived at the bottom of a well.</p>\n",
       "<p class=\"story\">...</p></body></html>"
      ]
     },
     "execution_count": 13,
     "metadata": {},
     "output_type": "execute_result"
    }
   ],
   "source": [
    "soup.title.parent.parent #html tag"
   ]
  },
  {
   "cell_type": "markdown",
   "id": "d3058c66-2022-4c1e-a26e-b0bef1539139",
   "metadata": {},
   "source": [
    "# Other tags \n",
    "## Children"
   ]
  },
  {
   "cell_type": "code",
   "execution_count": 14,
   "id": "576c9de4-8396-40fa-803a-611ba02ee9d1",
   "metadata": {},
   "outputs": [
    {
     "data": {
      "text/plain": [
       "<list_iterator at 0x231215b1f30>"
      ]
     },
     "execution_count": 14,
     "metadata": {},
     "output_type": "execute_result"
    }
   ],
   "source": [
    "soup.body.children #returns an iterator"
   ]
  },
  {
   "cell_type": "code",
   "execution_count": 15,
   "id": "b3452d14-3ffc-4601-a8d7-b65e268c1d04",
   "metadata": {},
   "outputs": [
    {
     "name": "stdout",
     "output_type": "stream",
     "text": [
      "\n",
      "\n",
      "<p class=\"title\"><b>The Dormouse's story</b></p>\n",
      "\n",
      "\n",
      "<p class=\"story\">Once upon a time there were three little sisters; and their names were\n",
      "<a class=\"sister\" href=\"http://example.com/elsie\" id=\"link1\">Elsie</a>,\n",
      "<a class=\"sister\" href=\"http://example.com/lacie\" id=\"link2\">Lacie</a> and\n",
      "<a class=\"sister\" href=\"http://example.com/tillie\" id=\"link3\">Tillie</a>;\n",
      "and they lived at the bottom of a well.</p>\n",
      "\n",
      "\n",
      "<p class=\"story\">...</p>\n"
     ]
    }
   ],
   "source": [
    "for child in soup.body.children:\n",
    "    print(child)"
   ]
  },
  {
   "cell_type": "code",
   "execution_count": 16,
   "id": "52fcb190-bc10-48fc-b0f9-92b6fca2d595",
   "metadata": {},
   "outputs": [
    {
     "name": "stdout",
     "output_type": "stream",
     "text": [
      "<title>The Dormouse's story</title>\n"
     ]
    }
   ],
   "source": [
    "for child in soup.head.children:\n",
    "    print(child)"
   ]
  },
  {
   "cell_type": "markdown",
   "id": "f0b4ca7d-c6ed-4c75-8eea-50c97005a28f",
   "metadata": {},
   "source": [
    "## Descendant\n",
    "\n"
   ]
  },
  {
   "cell_type": "code",
   "execution_count": 18,
   "id": "c6134916-cee0-4d59-8e7e-7d56ba2d5c05",
   "metadata": {},
   "outputs": [
    {
     "data": {
      "text/plain": [
       "<generator object Tag.descendants at 0x00000231230DBD30>"
      ]
     },
     "execution_count": 18,
     "metadata": {},
     "output_type": "execute_result"
    }
   ],
   "source": [
    "soup.body.descendants"
   ]
  },
  {
   "cell_type": "code",
   "execution_count": 19,
   "id": "ae0aca01-eca7-4d83-9f88-21684ebfeaea",
   "metadata": {},
   "outputs": [
    {
     "name": "stdout",
     "output_type": "stream",
     "text": [
      "\n",
      "\n",
      "<p class=\"title\"><b>The Dormouse's story</b></p>\n",
      "<b>The Dormouse's story</b>\n",
      "The Dormouse's story\n",
      "\n",
      "\n",
      "<p class=\"story\">Once upon a time there were three little sisters; and their names were\n",
      "<a class=\"sister\" href=\"http://example.com/elsie\" id=\"link1\">Elsie</a>,\n",
      "<a class=\"sister\" href=\"http://example.com/lacie\" id=\"link2\">Lacie</a> and\n",
      "<a class=\"sister\" href=\"http://example.com/tillie\" id=\"link3\">Tillie</a>;\n",
      "and they lived at the bottom of a well.</p>\n",
      "Once upon a time there were three little sisters; and their names were\n",
      "\n",
      "<a class=\"sister\" href=\"http://example.com/elsie\" id=\"link1\">Elsie</a>\n",
      "Elsie\n",
      ",\n",
      "\n",
      "<a class=\"sister\" href=\"http://example.com/lacie\" id=\"link2\">Lacie</a>\n",
      "Lacie\n",
      " and\n",
      "\n",
      "<a class=\"sister\" href=\"http://example.com/tillie\" id=\"link3\">Tillie</a>\n",
      "Tillie\n",
      ";\n",
      "and they lived at the bottom of a well.\n",
      "\n",
      "\n",
      "<p class=\"story\">...</p>\n",
      "...\n"
     ]
    }
   ],
   "source": [
    "for descendant in soup.body.descendants:\n",
    "    print(descendant )"
   ]
  },
  {
   "cell_type": "markdown",
   "id": "f647c9df-4185-4edf-8a47-644841a96de0",
   "metadata": {},
   "source": [
    "## find() "
   ]
  },
  {
   "cell_type": "code",
   "execution_count": 20,
   "id": "63b0bbcd-984d-47f5-9524-4d1da5ab7f94",
   "metadata": {},
   "outputs": [
    {
     "data": {
      "text/plain": [
       "<a class=\"sister\" href=\"http://example.com/elsie\" id=\"link1\">Elsie</a>"
      ]
     },
     "execution_count": 20,
     "metadata": {},
     "output_type": "execute_result"
    }
   ],
   "source": [
    "soup.find('a')"
   ]
  },
  {
   "cell_type": "code",
   "execution_count": 21,
   "id": "84a3436a-ca84-490a-b183-8a1055495e3a",
   "metadata": {},
   "outputs": [
    {
     "data": {
      "text/plain": [
       "<p class=\"title\"><b>The Dormouse's story</b></p>"
      ]
     },
     "execution_count": 21,
     "metadata": {},
     "output_type": "execute_result"
    }
   ],
   "source": [
    "soup.find('p')"
   ]
  },
  {
   "cell_type": "markdown",
   "id": "878ba9d7-caf2-4460-b8bc-b8aeb8f80f35",
   "metadata": {},
   "source": [
    "## find_all()"
   ]
  },
  {
   "cell_type": "code",
   "execution_count": 22,
   "id": "a87d8265-05ed-42f3-a7eb-c30012518884",
   "metadata": {},
   "outputs": [
    {
     "data": {
      "text/plain": [
       "[<a class=\"sister\" href=\"http://example.com/elsie\" id=\"link1\">Elsie</a>,\n",
       " <a class=\"sister\" href=\"http://example.com/lacie\" id=\"link2\">Lacie</a>,\n",
       " <a class=\"sister\" href=\"http://example.com/tillie\" id=\"link3\">Tillie</a>]"
      ]
     },
     "execution_count": 22,
     "metadata": {},
     "output_type": "execute_result"
    }
   ],
   "source": [
    "soup.find_all('a')"
   ]
  },
  {
   "cell_type": "code",
   "execution_count": 23,
   "id": "ffdf49c4-25fd-45d8-8694-222db700f0f2",
   "metadata": {},
   "outputs": [
    {
     "data": {
      "text/plain": [
       "bs4.element.ResultSet"
      ]
     },
     "execution_count": 23,
     "metadata": {},
     "output_type": "execute_result"
    }
   ],
   "source": [
    "type(soup.find_all('a'))"
   ]
  },
  {
   "cell_type": "markdown",
   "id": "3a8a2117-2f7b-46a3-a929-4d37b5b30433",
   "metadata": {},
   "source": [
    "## get()"
   ]
  },
  {
   "cell_type": "code",
   "execution_count": 24,
   "id": "bbed1a07-61d2-4d06-8508-44f60699b717",
   "metadata": {},
   "outputs": [
    {
     "data": {
      "text/plain": [
       "'http://example.com/elsie'"
      ]
     },
     "execution_count": 24,
     "metadata": {},
     "output_type": "execute_result"
    }
   ],
   "source": [
    "soup.a.get('href')"
   ]
  },
  {
   "cell_type": "code",
   "execution_count": 25,
   "id": "e20dc477-5cdb-4c68-8de3-7a93e718a5f3",
   "metadata": {},
   "outputs": [
    {
     "data": {
      "text/plain": [
       "['sister']"
      ]
     },
     "execution_count": 25,
     "metadata": {},
     "output_type": "execute_result"
    }
   ],
   "source": [
    "soup.a.get('class')"
   ]
  },
  {
   "cell_type": "code",
   "execution_count": 31,
   "id": "c1f60192-e212-4271-a764-bcc0efe13788",
   "metadata": {},
   "outputs": [
    {
     "data": {
      "text/plain": [
       "'http://example.com/elsie'"
      ]
     },
     "execution_count": 31,
     "metadata": {},
     "output_type": "execute_result"
    }
   ],
   "source": [
    "soup.a['href'] #Similler to get() method"
   ]
  },
  {
   "cell_type": "code",
   "execution_count": 27,
   "id": "da56b44f-31c2-4b5c-89d6-69b90022e7b5",
   "metadata": {},
   "outputs": [
    {
     "data": {
      "text/plain": [
       "['sister']"
      ]
     },
     "execution_count": 27,
     "metadata": {},
     "output_type": "execute_result"
    }
   ],
   "source": [
    "soup.a['class']"
   ]
  },
  {
   "cell_type": "code",
   "execution_count": 30,
   "id": "78825353-527f-445a-aa18-6b3c0afe3f3c",
   "metadata": {},
   "outputs": [],
   "source": [
    "soup.p.get('id') #If doesn't exist , just ignores\n"
   ]
  },
  {
   "cell_type": "code",
   "execution_count": null,
   "id": "0fcbf89b-e636-4b9a-a3c5-6c576884d851",
   "metadata": {},
   "outputs": [],
   "source": [
    "soup.p['id'] #If doesn't exist , throws error"
   ]
  },
  {
   "cell_type": "code",
   "execution_count": null,
   "id": "a5d279d8-03be-45ad-97b1-3cea8d469fea",
   "metadata": {},
   "outputs": [],
   "source": []
  }
 ],
 "metadata": {
  "kernelspec": {
   "display_name": "Web Scrapping Udemy",
   "language": "python",
   "name": "web_scrapping"
  },
  "language_info": {
   "codemirror_mode": {
    "name": "ipython",
    "version": 3
   },
   "file_extension": ".py",
   "mimetype": "text/x-python",
   "name": "python",
   "nbconvert_exporter": "python",
   "pygments_lexer": "ipython3",
   "version": "3.13.4"
  }
 },
 "nbformat": 4,
 "nbformat_minor": 5
}
