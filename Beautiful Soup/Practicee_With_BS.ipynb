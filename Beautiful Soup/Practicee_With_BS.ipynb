{
 "cells": [
  {
   "cell_type": "markdown",
   "id": "872c4c78-6134-4bf5-af1d-f711d05f0f23",
   "metadata": {},
   "source": [
    "# Target of this work : \n",
    "## 1) Visit this site : https://quotes.toscrape.com/\n",
    "## 2) Scrap these data : Author , Quote , Some tags\n",
    "## 3) Save it in form of a csv file"
   ]
  },
  {
   "cell_type": "code",
   "execution_count": 19,
   "id": "3edc4115-90d9-444e-80b5-78a63d53e449",
   "metadata": {},
   "outputs": [],
   "source": [
    "#Importing libraries\n",
    "import requests\n",
    "from bs4 import BeautifulSoup\n",
    "import pandas as pd\n",
    "\n",
    "#Make an HTTP request\n",
    "try:\n",
    "    url =\"https://quotes.toscrape.com/\"\n",
    "    response = requests.get(url)\n",
    "    response.raise_for_status()\n",
    "except Exception as e:\n",
    "    print(e)\n",
    "else:\n",
    "    status = response.status_code\n",
    "    authors=[]\n",
    "    quotes=[]\n",
    "    tags=[]\n",
    "    if( status == 200):\n",
    "        soup = BeautifulSoup(response.content,\"html.parser\")\n",
    "\n",
    "        column = soup.find_all('div',class_='col-md-8')[-1]\n",
    "        list_of_quotes = list(column.children)\n",
    "        updated_list = list_of_quotes[1::2]\n",
    "        for row in updated_list:\n",
    "            #Extracting author name\n",
    "            author_tag = row.find('small', class_='author')\n",
    "            if author_tag:\n",
    "                author_name = author_tag.get_text(strip=True)\n",
    "                authors.append(author_name)\n",
    "            \n",
    "\n",
    "            #Extracting quotes\n",
    "            quote_tag = row.find('span',class_='text')\n",
    "            if quote_tag:\n",
    "                quote = quote_tag.get_text(strip =True)\n",
    "                quotes.append(quote)\n",
    "\n",
    "            #Extracting tags\n",
    "            tags_per_person=[]\n",
    "            tag_element_list = list(row.find_all('a',class_='tag'))\n",
    "            for tagEl in tag_element_list:\n",
    "                tag_name = tagEl.get_text(strip=True)\n",
    "                tags_per_person.append(tag_name)\n",
    "            tags.append(tags_per_person)\n",
    "\n",
    "        data_dict={\n",
    "            \"Author Name\" : authors,\n",
    "            \"Quote\" : quotes,\n",
    "            \"Tags\" : tags\n",
    "        }\n",
    "        tags.pop()\n",
    "        quotes_data = pd.DataFrame(data_dict)\n",
    "        quotes_data.to_csv(\"Famous quotes.csv\",index = False)\n",
    "        \n",
    "            \n",
    "        "
   ]
  },
  {
   "cell_type": "code",
   "execution_count": null,
   "id": "e1cceb49-9847-46cd-853b-8c08b55a904b",
   "metadata": {},
   "outputs": [],
   "source": []
  }
 ],
 "metadata": {
  "kernelspec": {
   "display_name": "Web Scrapping Udemy",
   "language": "python",
   "name": "web_scrapping"
  },
  "language_info": {
   "codemirror_mode": {
    "name": "ipython",
    "version": 3
   },
   "file_extension": ".py",
   "mimetype": "text/x-python",
   "name": "python",
   "nbconvert_exporter": "python",
   "pygments_lexer": "ipython3",
   "version": "3.13.4"
  }
 },
 "nbformat": 4,
 "nbformat_minor": 5
}
